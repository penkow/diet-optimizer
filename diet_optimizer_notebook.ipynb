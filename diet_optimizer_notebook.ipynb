{
 "cells": [
  {
   "cell_type": "code",
   "execution_count": 726,
   "metadata": {},
   "outputs": [],
   "source": [
    "from scipy.optimize import linprog\n",
    "import pandas as pd\n",
    "import numpy as np"
   ]
  },
  {
   "cell_type": "markdown",
   "metadata": {},
   "source": [
    "https://docs.scipy.org/doc/scipy/reference/generated/scipy.optimize.linprog.html"
   ]
  },
  {
   "cell_type": "code",
   "execution_count": 727,
   "metadata": {},
   "outputs": [],
   "source": [
    "food_list = []\n",
    "serving_list = []\n",
    "price_list = []\n",
    "calorie_list = []\n",
    "carb_list = []\n",
    "protein_list = []\n",
    "fat_list = []\n",
    "\n",
    "def add_food(name, serving, price, carbs, protein, fat):\n",
    "    food_list.append(name)\n",
    "    serving_list.append(serving)\n",
    "    price_list.append(price)\n",
    "    calorie_list.append(carbs*4 + protein*4 + fat*9)\n",
    "    carb_list.append(carbs)\n",
    "    protein_list.append(protein)\n",
    "    fat_list.append(fat)"
   ]
  },
  {
   "cell_type": "markdown",
   "metadata": {},
   "source": [
    "## ADD FOODS HERE"
   ]
  },
  {
   "cell_type": "code",
   "execution_count": 728,
   "metadata": {},
   "outputs": [],
   "source": [
    "add_food(\"Quark (Magerstuffe Aldi)\",100,0.60/5,4.1,12,0.2)\n",
    "add_food(\"Berries (Aldi)\",100,3/5,9.3,1.7,0.4)\n",
    "add_food(\"Almonds (Aldi)\",100,2.60/2,5.3,18,0.54)"
   ]
  },
  {
   "cell_type": "markdown",
   "metadata": {},
   "source": [
    "## ==========="
   ]
  },
  {
   "cell_type": "code",
   "execution_count": 729,
   "metadata": {},
   "outputs": [],
   "source": [
    "d = {'Food': food_list, 'Serving': serving_list,'Price':price_list,\"Calories\":calorie_list,\"Carbs\":carb_list,\"Proteins\":protein_list,\"Fats\":fat_list}\n",
    "df = pd.DataFrame(data=d)"
   ]
  },
  {
   "cell_type": "code",
   "execution_count": 730,
   "metadata": {},
   "outputs": [],
   "source": [
    "daily_calories = 469\n",
    "daily_carbs_percentage = 14\n",
    "daily_protein_percentage = 17\n",
    "daily_fat_percentage = 69\n",
    "\n",
    "daily_carbs = daily_carbs_percentage * daily_calories / 4\n",
    "daily_protein = daily_protein_percentage * daily_calories / 4\n",
    "daily_fat = daily_fat_percentage * daily_calories / 9"
   ]
  },
  {
   "cell_type": "code",
   "execution_count": 731,
   "metadata": {},
   "outputs": [],
   "source": [
    "A_eq = []\n",
    "b_eq = []\n",
    "def add_equality_constrain(params, const):\n",
    "    A_eq.append(params)\n",
    "    b_eq.append(const)\n",
    "    \n",
    "A_ub = []\n",
    "b_ub = []\n",
    "def add_inequality_constrain(params, const):\n",
    "    A_ub.append(params)\n",
    "    b_ub.append(const)\n",
    "    \n",
    "bounds = []\n",
    "for i in range(df.shape[0]):\n",
    "    bounds.append((0,None))\n",
    "    \n",
    "def add_bounds(food_index, min_servings, max_servings):\n",
    "    bounds[food_index] = (min_servings,max_servings)"
   ]
  },
  {
   "cell_type": "code",
   "execution_count": 732,
   "metadata": {},
   "outputs": [
    {
     "data": {
      "text/html": [
       "<div>\n",
       "<style scoped>\n",
       "    .dataframe tbody tr th:only-of-type {\n",
       "        vertical-align: middle;\n",
       "    }\n",
       "\n",
       "    .dataframe tbody tr th {\n",
       "        vertical-align: top;\n",
       "    }\n",
       "\n",
       "    .dataframe thead th {\n",
       "        text-align: right;\n",
       "    }\n",
       "</style>\n",
       "<table border=\"1\" class=\"dataframe\">\n",
       "  <thead>\n",
       "    <tr style=\"text-align: right;\">\n",
       "      <th></th>\n",
       "      <th>Food</th>\n",
       "      <th>Serving</th>\n",
       "      <th>Price</th>\n",
       "      <th>Calories</th>\n",
       "      <th>Carbs</th>\n",
       "      <th>Proteins</th>\n",
       "      <th>Fats</th>\n",
       "    </tr>\n",
       "  </thead>\n",
       "  <tbody>\n",
       "    <tr>\n",
       "      <th>0</th>\n",
       "      <td>Quark (Magerstuffe Aldi)</td>\n",
       "      <td>100</td>\n",
       "      <td>0.12</td>\n",
       "      <td>66.20</td>\n",
       "      <td>4.1</td>\n",
       "      <td>12.0</td>\n",
       "      <td>0.20</td>\n",
       "    </tr>\n",
       "    <tr>\n",
       "      <th>1</th>\n",
       "      <td>Berries (Aldi)</td>\n",
       "      <td>100</td>\n",
       "      <td>0.60</td>\n",
       "      <td>47.60</td>\n",
       "      <td>9.3</td>\n",
       "      <td>1.7</td>\n",
       "      <td>0.40</td>\n",
       "    </tr>\n",
       "    <tr>\n",
       "      <th>2</th>\n",
       "      <td>Almonds (Aldi)</td>\n",
       "      <td>100</td>\n",
       "      <td>1.30</td>\n",
       "      <td>98.06</td>\n",
       "      <td>5.3</td>\n",
       "      <td>18.0</td>\n",
       "      <td>0.54</td>\n",
       "    </tr>\n",
       "  </tbody>\n",
       "</table>\n",
       "</div>"
      ],
      "text/plain": [
       "                       Food  Serving  Price  Calories  Carbs  Proteins  Fats\n",
       "0  Quark (Magerstuffe Aldi)      100   0.12     66.20    4.1      12.0  0.20\n",
       "1            Berries (Aldi)      100   0.60     47.60    9.3       1.7  0.40\n",
       "2            Almonds (Aldi)      100   1.30     98.06    5.3      18.0  0.54"
      ]
     },
     "execution_count": 732,
     "metadata": {},
     "output_type": "execute_result"
    }
   ],
   "source": [
    "df"
   ]
  },
  {
   "cell_type": "markdown",
   "metadata": {},
   "source": [
    "## ADD CONSTRAINS HERE"
   ]
  },
  {
   "cell_type": "code",
   "execution_count": 733,
   "metadata": {},
   "outputs": [],
   "source": [
    "c = list(df.Price)\n",
    "\n",
    "#add_equality_constrain(list(df.Calories), daily_calories)\n",
    "add_equality_constrain(list(df.Proteins), daily_protein)\n",
    "add_equality_constrain(list(df.Carbs), daily_carbs)\n",
    "add_equality_constrain(list(df.Fats), daily_fat)\n",
    "\n",
    "#add_bounds(0, 0.5, None)\n",
    "#add_bounds(1, 1, None)\n",
    "#add_bounds(2, 0.5, None)"
   ]
  },
  {
   "cell_type": "markdown",
   "metadata": {},
   "source": [
    "## ==============="
   ]
  },
  {
   "cell_type": "code",
   "execution_count": 734,
   "metadata": {},
   "outputs": [
    {
     "name": "stdout",
     "output_type": "stream",
     "text": [
      "A_ub is empty\n"
     ]
    },
    {
     "ename": "ValueError",
     "evalue": "illegal value in 4th argument of internal getrf (lu_factor)",
     "output_type": "error",
     "traceback": [
      "\u001b[1;31m---------------------------------------------------------------------------\u001b[0m",
      "\u001b[1;31mValueError\u001b[0m                                Traceback (most recent call last)",
      "\u001b[1;32m<ipython-input-734-806a27065a4e>\u001b[0m in \u001b[0;36m<module>\u001b[1;34m\u001b[0m\n\u001b[0;32m      9\u001b[0m     \u001b[0mprint\u001b[0m\u001b[1;33m(\u001b[0m\u001b[1;34m\"A_ub is empty\"\u001b[0m\u001b[1;33m)\u001b[0m\u001b[1;33m\u001b[0m\u001b[1;33m\u001b[0m\u001b[0m\n\u001b[0;32m     10\u001b[0m \u001b[1;33m\u001b[0m\u001b[0m\n\u001b[1;32m---> 11\u001b[1;33m \u001b[0mres\u001b[0m \u001b[1;33m=\u001b[0m \u001b[0mlinprog\u001b[0m\u001b[1;33m(\u001b[0m\u001b[0mc\u001b[0m\u001b[1;33m,\u001b[0m \u001b[0mA_eq\u001b[0m\u001b[1;33m=\u001b[0m\u001b[0mA_eq\u001b[0m\u001b[1;33m,\u001b[0m \u001b[0mb_eq\u001b[0m\u001b[1;33m=\u001b[0m\u001b[0mb_eq\u001b[0m\u001b[1;33m,\u001b[0m \u001b[0mA_ub\u001b[0m\u001b[1;33m=\u001b[0m\u001b[0mA_ub\u001b[0m\u001b[1;33m,\u001b[0m \u001b[0mb_ub\u001b[0m\u001b[1;33m=\u001b[0m\u001b[0mb_ub\u001b[0m\u001b[1;33m,\u001b[0m \u001b[0mmethod\u001b[0m\u001b[1;33m=\u001b[0m\u001b[1;34m'revised simplex'\u001b[0m\u001b[1;33m,\u001b[0m \u001b[0moptions\u001b[0m\u001b[1;33m=\u001b[0m\u001b[1;33m{\u001b[0m\u001b[1;34m'tol'\u001b[0m\u001b[1;33m:\u001b[0m\u001b[1;36m1e+04\u001b[0m\u001b[1;33m}\u001b[0m\u001b[1;33m)\u001b[0m\u001b[1;33m\u001b[0m\u001b[1;33m\u001b[0m\u001b[0m\n\u001b[0m",
      "\u001b[1;32mD:\\Software\\Anaconda\\lib\\site-packages\\scipy\\optimize\\_linprog.py\u001b[0m in \u001b[0;36mlinprog\u001b[1;34m(c, A_ub, b_ub, A_eq, b_eq, bounds, method, callback, options, x0)\u001b[0m\n\u001b[0;32m    548\u001b[0m                 postsolve_args=postsolve_args, **solver_options)\n\u001b[0;32m    549\u001b[0m         \u001b[1;32melif\u001b[0m \u001b[0mmeth\u001b[0m \u001b[1;33m==\u001b[0m \u001b[1;34m'revised simplex'\u001b[0m\u001b[1;33m:\u001b[0m\u001b[1;33m\u001b[0m\u001b[1;33m\u001b[0m\u001b[0m\n\u001b[1;32m--> 550\u001b[1;33m             x, status, message, iteration = _linprog_rs(\n\u001b[0m\u001b[0;32m    551\u001b[0m                 \u001b[0mc\u001b[0m\u001b[1;33m,\u001b[0m \u001b[0mc0\u001b[0m\u001b[1;33m=\u001b[0m\u001b[0mc0\u001b[0m\u001b[1;33m,\u001b[0m \u001b[0mA\u001b[0m\u001b[1;33m=\u001b[0m\u001b[0mA\u001b[0m\u001b[1;33m,\u001b[0m \u001b[0mb\u001b[0m\u001b[1;33m=\u001b[0m\u001b[0mb\u001b[0m\u001b[1;33m,\u001b[0m \u001b[0mx0\u001b[0m\u001b[1;33m=\u001b[0m\u001b[0mx0\u001b[0m\u001b[1;33m,\u001b[0m \u001b[0mcallback\u001b[0m\u001b[1;33m=\u001b[0m\u001b[0mcallback\u001b[0m\u001b[1;33m,\u001b[0m\u001b[1;33m\u001b[0m\u001b[1;33m\u001b[0m\u001b[0m\n\u001b[0;32m    552\u001b[0m                 postsolve_args=postsolve_args, **solver_options)\n",
      "\u001b[1;32mD:\\Software\\Anaconda\\lib\\site-packages\\scipy\\optimize\\_linprog_rs.py\u001b[0m in \u001b[0;36m_linprog_rs\u001b[1;34m(c, c0, A, b, x0, callback, postsolve_args, maxiter, tol, disp, maxupdate, mast, pivot, **unknown_options)\u001b[0m\n\u001b[0;32m    549\u001b[0m \u001b[1;33m\u001b[0m\u001b[0m\n\u001b[0;32m    550\u001b[0m     \u001b[1;32mif\u001b[0m \u001b[0mstatus\u001b[0m \u001b[1;33m==\u001b[0m \u001b[1;36m0\u001b[0m\u001b[1;33m:\u001b[0m\u001b[1;33m\u001b[0m\u001b[1;33m\u001b[0m\u001b[0m\n\u001b[1;32m--> 551\u001b[1;33m         x, basis, status, iteration = _phase_two(c, A, x, basis, callback,\n\u001b[0m\u001b[0;32m    552\u001b[0m                                                  \u001b[0mpostsolve_args\u001b[0m\u001b[1;33m,\u001b[0m\u001b[1;33m\u001b[0m\u001b[1;33m\u001b[0m\u001b[0m\n\u001b[0;32m    553\u001b[0m                                                  \u001b[0mmaxiter\u001b[0m\u001b[1;33m,\u001b[0m \u001b[0mtol\u001b[0m\u001b[1;33m,\u001b[0m \u001b[0mdisp\u001b[0m\u001b[1;33m,\u001b[0m\u001b[1;33m\u001b[0m\u001b[1;33m\u001b[0m\u001b[0m\n",
      "\u001b[1;32mD:\\Software\\Anaconda\\lib\\site-packages\\scipy\\optimize\\_linprog_rs.py\u001b[0m in \u001b[0;36m_phase_two\u001b[1;34m(c, A, x, b, callback, postsolve_args, maxiter, tol, disp, maxupdate, mast, pivot, iteration, phase_one_n)\u001b[0m\n\u001b[0;32m    330\u001b[0m     \u001b[1;32mif\u001b[0m \u001b[0mmaxupdate\u001b[0m\u001b[1;33m:\u001b[0m\u001b[1;33m\u001b[0m\u001b[1;33m\u001b[0m\u001b[0m\n\u001b[0;32m    331\u001b[0m         \u001b[1;31m# basis matrix factorization object; similar to B = A[:, b]\u001b[0m\u001b[1;33m\u001b[0m\u001b[1;33m\u001b[0m\u001b[1;33m\u001b[0m\u001b[0m\n\u001b[1;32m--> 332\u001b[1;33m         \u001b[0mB\u001b[0m \u001b[1;33m=\u001b[0m \u001b[0mBGLU\u001b[0m\u001b[1;33m(\u001b[0m\u001b[0mA\u001b[0m\u001b[1;33m,\u001b[0m \u001b[0mb\u001b[0m\u001b[1;33m,\u001b[0m \u001b[0mmaxupdate\u001b[0m\u001b[1;33m,\u001b[0m \u001b[0mmast\u001b[0m\u001b[1;33m)\u001b[0m\u001b[1;33m\u001b[0m\u001b[1;33m\u001b[0m\u001b[0m\n\u001b[0m\u001b[0;32m    333\u001b[0m     \u001b[1;32melse\u001b[0m\u001b[1;33m:\u001b[0m\u001b[1;33m\u001b[0m\u001b[1;33m\u001b[0m\u001b[0m\n\u001b[0;32m    334\u001b[0m         \u001b[0mB\u001b[0m \u001b[1;33m=\u001b[0m \u001b[0mLU\u001b[0m\u001b[1;33m(\u001b[0m\u001b[0mA\u001b[0m\u001b[1;33m,\u001b[0m \u001b[0mb\u001b[0m\u001b[1;33m)\u001b[0m\u001b[1;33m\u001b[0m\u001b[1;33m\u001b[0m\u001b[0m\n",
      "\u001b[1;32m_bglu_dense.pyx\u001b[0m in \u001b[0;36mscipy.optimize._bglu_dense.BGLU.__init__\u001b[1;34m()\u001b[0m\n",
      "\u001b[1;32m_bglu_dense.pyx\u001b[0m in \u001b[0;36mscipy.optimize._bglu_dense._consider_refactor.f\u001b[1;34m()\u001b[0m\n",
      "\u001b[1;32m_bglu_dense.pyx\u001b[0m in \u001b[0;36mscipy.optimize._bglu_dense.BGLU.refactor\u001b[1;34m()\u001b[0m\n",
      "\u001b[1;32mD:\\Software\\Anaconda\\lib\\site-packages\\scipy\\linalg\\decomp_lu.py\u001b[0m in \u001b[0;36mlu_factor\u001b[1;34m(a, overwrite_a, check_finite)\u001b[0m\n\u001b[0;32m     77\u001b[0m     \u001b[0mlu\u001b[0m\u001b[1;33m,\u001b[0m \u001b[0mpiv\u001b[0m\u001b[1;33m,\u001b[0m \u001b[0minfo\u001b[0m \u001b[1;33m=\u001b[0m \u001b[0mgetrf\u001b[0m\u001b[1;33m(\u001b[0m\u001b[0ma1\u001b[0m\u001b[1;33m,\u001b[0m \u001b[0moverwrite_a\u001b[0m\u001b[1;33m=\u001b[0m\u001b[0moverwrite_a\u001b[0m\u001b[1;33m)\u001b[0m\u001b[1;33m\u001b[0m\u001b[1;33m\u001b[0m\u001b[0m\n\u001b[0;32m     78\u001b[0m     \u001b[1;32mif\u001b[0m \u001b[0minfo\u001b[0m \u001b[1;33m<\u001b[0m \u001b[1;36m0\u001b[0m\u001b[1;33m:\u001b[0m\u001b[1;33m\u001b[0m\u001b[1;33m\u001b[0m\u001b[0m\n\u001b[1;32m---> 79\u001b[1;33m         raise ValueError('illegal value in %dth argument of '\n\u001b[0m\u001b[0;32m     80\u001b[0m                          'internal getrf (lu_factor)' % -info)\n\u001b[0;32m     81\u001b[0m     \u001b[1;32mif\u001b[0m \u001b[0minfo\u001b[0m \u001b[1;33m>\u001b[0m \u001b[1;36m0\u001b[0m\u001b[1;33m:\u001b[0m\u001b[1;33m\u001b[0m\u001b[1;33m\u001b[0m\u001b[0m\n",
      "\u001b[1;31mValueError\u001b[0m: illegal value in 4th argument of internal getrf (lu_factor)"
     ]
    }
   ],
   "source": [
    "if(len(A_eq) == 0):\n",
    "    A_eq = None\n",
    "    B_eq = None\n",
    "    print(\"A_eq is empty\")\n",
    "    \n",
    "if(len(A_ub) == 0):\n",
    "    A_ub = None\n",
    "    b_ub = None\n",
    "    print(\"A_ub is empty\")\n",
    "    \n",
    "res = linprog(c, A_eq=A_eq, b_eq=b_eq, A_ub=A_ub, b_ub=b_ub, method='revised simplex', options={'tol':1e+04})"
   ]
  },
  {
   "cell_type": "code",
   "execution_count": null,
   "metadata": {},
   "outputs": [],
   "source": [
    "if(res.success):\n",
    "    food_ammount = round(res.x * df.Serving,4)\n",
    "    res_calories = round(res.x * df.Calories,4)\n",
    "    res_carbs = round(res.x * df.Carbs,4)\n",
    "    res_proteins = round(res.x * df.Proteins,4)\n",
    "    res_fats = round(res.x * df.Fats,4)\n",
    "    \n",
    "    out = {'Food':df.Food, \"Servings\":res.x,'Ammount g':food_ammount,'Carbs':res_carbs,'Protein':res_proteins,'Fat':res_fats,'Calories':res_calories}\n",
    "    out_df = pd.DataFrame(data=out)\n",
    "    print(out_df)\n",
    "    \n",
    "    print(100*\"=\")\n",
    "    total_price = round(sum(res.x * df.Price),2)\n",
    "    total_calories = round(sum(res.x * df.Calories),2)\n",
    "    total_carbs = round(sum(res.x * df.Carbs),2)\n",
    "    total_protein = round(sum(res.x * df.Proteins),2)\n",
    "    total_fat = round(sum(res.x * df.Fats),2)\n",
    "    \n",
    "    print(\"Total price:\",total_price,\"Eur\")\n",
    "    print(\"Total calories:\",total_calories,'g of',daily_calories, 'g ---> Delta is', daily_calories - total_calories, 'g')\n",
    "    print(\"Total carbs:\",total_carbs,'g of',daily_carbs, 'g ---> Delta is', daily_carbs - total_carbs, 'g')\n",
    "    print(\"Total protein:\",total_protein,'g of',daily_carbs, 'g ---> Delta is', daily_protein - total_protein, 'g')\n",
    "    print(\"Total fat:\",total_fat,'g of',daily_carbs, 'g ---> Delta is', daily_fat - total_fat, 'g')\n",
    "else:\n",
    "    print(\"There is no solution\")\n",
    "    print(res)"
   ]
  }
 ],
 "metadata": {
  "kernelspec": {
   "display_name": "Python 3",
   "language": "python",
   "name": "python3"
  },
  "language_info": {
   "codemirror_mode": {
    "name": "ipython",
    "version": 3
   },
   "file_extension": ".py",
   "mimetype": "text/x-python",
   "name": "python",
   "nbconvert_exporter": "python",
   "pygments_lexer": "ipython3",
   "version": "3.8.5"
  }
 },
 "nbformat": 4,
 "nbformat_minor": 4
}
